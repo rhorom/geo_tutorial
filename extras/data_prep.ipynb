{
 "cells": [
  {
   "cell_type": "code",
   "execution_count": 4,
   "id": "8f117934",
   "metadata": {},
   "outputs": [],
   "source": [
    "import geopandas as gpd\n",
    "import matplotlib.pyplot as plt\n",
    "import os"
   ]
  },
  {
   "cell_type": "code",
   "execution_count": 17,
   "id": "d881dd1b",
   "metadata": {},
   "outputs": [],
   "source": [
    "wdir = 'C:/Users/rp1y21/OneDrive - University of Southampton/Data/Census/UGA/'\n",
    "f = gpd.read_file(f'{wdir}uga_admbnda_adm0_ubos_20200824.shp')\n",
    "g = gpd.read_file(f'{wdir}uga_admbnda_adm2_ubos_20200824.shp')[['ADM2_PCODE','ADM2_EN','geometry']]\n",
    "d = gpd.pd.read_csv(f'{wdir}uga_admpop_adm2_2023.csv')[['ADM2_PCODE','ADM1_EN','F_TL','M_TL','T_TL']]\n",
    "h = gpd.pd.merge(d, g, on='ADM2_PCODE', how='inner')\n",
    "\n",
    "h = gpd.GeoDataFrame(h)\n",
    "\n",
    "f = f[['ADM0_EN', 'geometry']]\n",
    "f.to_file(f'{wdir}output/UGA_2023_adm0.shp', index=False)\n",
    "h.to_file(f'{wdir}output/UGA_2023_adm2.shp', index=False)"
   ]
  },
  {
   "cell_type": "code",
   "execution_count": 24,
   "id": "681ae14d",
   "metadata": {
    "collapsed": true
   },
   "outputs": [
    {
     "ename": "KeyError",
     "evalue": "\"['ADM2_PCODE'] not in index\"",
     "output_type": "error",
     "traceback": [
      "\u001b[1;31m---------------------------------------------------------------------------\u001b[0m",
      "\u001b[1;31mKeyError\u001b[0m                                  Traceback (most recent call last)",
      "Cell \u001b[1;32mIn [24], line 3\u001b[0m\n\u001b[0;32m      1\u001b[0m wdir \u001b[38;5;241m=\u001b[39m \u001b[38;5;124m'\u001b[39m\u001b[38;5;124mC:/Users/rp1y21/OneDrive - University of Southampton/Data/Census/NGA/\u001b[39m\u001b[38;5;124m'\u001b[39m\n\u001b[0;32m      2\u001b[0m \u001b[38;5;66;03m#f = gpd.read_file(f'{wdir}uga_admbnda_adm0_ubos_20200824.shp')\u001b[39;00m\n\u001b[1;32m----> 3\u001b[0m g \u001b[38;5;241m=\u001b[39m \u001b[43mgpd\u001b[49m\u001b[38;5;241;43m.\u001b[39;49m\u001b[43mread_file\u001b[49m\u001b[43m(\u001b[49m\u001b[38;5;124;43mf\u001b[39;49m\u001b[38;5;124;43m'\u001b[39;49m\u001b[38;5;132;43;01m{\u001b[39;49;00m\u001b[43mwdir\u001b[49m\u001b[38;5;132;43;01m}\u001b[39;49;00m\u001b[38;5;124;43madm/nga_admbnda_adm1_osgof_20190417.shp\u001b[39;49m\u001b[38;5;124;43m'\u001b[39;49m\u001b[43m)\u001b[49m\u001b[43m[\u001b[49m\u001b[43m[\u001b[49m\u001b[38;5;124;43m'\u001b[39;49m\u001b[38;5;124;43mADM2_PCODE\u001b[39;49m\u001b[38;5;124;43m'\u001b[39;49m\u001b[43m,\u001b[49m\u001b[38;5;124;43m'\u001b[39;49m\u001b[38;5;124;43mgeometry\u001b[39;49m\u001b[38;5;124;43m'\u001b[39;49m\u001b[43m]\u001b[49m\u001b[43m]\u001b[49m\n\u001b[0;32m      4\u001b[0m \u001b[38;5;66;03m#d = gpd.pd.read_excel(f'{wdir}nga_admpop_2020.xlsx', sheet_name='NGA_ADM2_POP_2020')#[['ADM2_PCODE','ADM1_EN','F_TL','M_TL','T_TL']]\u001b[39;00m\n\u001b[0;32m      5\u001b[0m \u001b[38;5;66;03m#h = gpd.pd.merge(d, g, on='ADM2_PCODE', how='inner')\u001b[39;00m\n",
      "File \u001b[1;32mC:\\Apps\\Anaconda3\\envs\\local\\lib\\site-packages\\geopandas\\geodataframe.py:1750\u001b[0m, in \u001b[0;36mGeoDataFrame.__getitem__\u001b[1;34m(self, key)\u001b[0m\n\u001b[0;32m   1744\u001b[0m \u001b[38;5;28;01mdef\u001b[39;00m \u001b[38;5;21m__getitem__\u001b[39m(\u001b[38;5;28mself\u001b[39m, key):\n\u001b[0;32m   1745\u001b[0m     \u001b[38;5;124;03m\"\"\"\u001b[39;00m\n\u001b[0;32m   1746\u001b[0m \u001b[38;5;124;03m    If the result is a column containing only 'geometry', return a\u001b[39;00m\n\u001b[0;32m   1747\u001b[0m \u001b[38;5;124;03m    GeoSeries. If it's a DataFrame with any columns of GeometryDtype,\u001b[39;00m\n\u001b[0;32m   1748\u001b[0m \u001b[38;5;124;03m    return a GeoDataFrame.\u001b[39;00m\n\u001b[0;32m   1749\u001b[0m \u001b[38;5;124;03m    \"\"\"\u001b[39;00m\n\u001b[1;32m-> 1750\u001b[0m     result \u001b[38;5;241m=\u001b[39m \u001b[38;5;28;43msuper\u001b[39;49m\u001b[43m(\u001b[49m\u001b[43m)\u001b[49m\u001b[38;5;241;43m.\u001b[39;49m\u001b[38;5;21;43m__getitem__\u001b[39;49m\u001b[43m(\u001b[49m\u001b[43mkey\u001b[49m\u001b[43m)\u001b[49m\n\u001b[0;32m   1751\u001b[0m     \u001b[38;5;66;03m# Custom logic to avoid waiting for pandas GH51895\u001b[39;00m\n\u001b[0;32m   1752\u001b[0m     \u001b[38;5;66;03m# result is not geometry dtype for multi-indexes\u001b[39;00m\n\u001b[0;32m   1753\u001b[0m     \u001b[38;5;28;01mif\u001b[39;00m (\n\u001b[0;32m   1754\u001b[0m         pd\u001b[38;5;241m.\u001b[39mapi\u001b[38;5;241m.\u001b[39mtypes\u001b[38;5;241m.\u001b[39mis_scalar(key)\n\u001b[0;32m   1755\u001b[0m         \u001b[38;5;129;01mand\u001b[39;00m key \u001b[38;5;241m==\u001b[39m \u001b[38;5;124m\"\u001b[39m\u001b[38;5;124m\"\u001b[39m\n\u001b[1;32m   (...)\u001b[0m\n\u001b[0;32m   1758\u001b[0m         \u001b[38;5;129;01mand\u001b[39;00m \u001b[38;5;129;01mnot\u001b[39;00m is_geometry_type(result)\n\u001b[0;32m   1759\u001b[0m     ):\n",
      "File \u001b[1;32mC:\\Apps\\Anaconda3\\envs\\local\\lib\\site-packages\\pandas\\core\\frame.py:3511\u001b[0m, in \u001b[0;36mDataFrame.__getitem__\u001b[1;34m(self, key)\u001b[0m\n\u001b[0;32m   3509\u001b[0m     \u001b[38;5;28;01mif\u001b[39;00m is_iterator(key):\n\u001b[0;32m   3510\u001b[0m         key \u001b[38;5;241m=\u001b[39m \u001b[38;5;28mlist\u001b[39m(key)\n\u001b[1;32m-> 3511\u001b[0m     indexer \u001b[38;5;241m=\u001b[39m \u001b[38;5;28;43mself\u001b[39;49m\u001b[38;5;241;43m.\u001b[39;49m\u001b[43mcolumns\u001b[49m\u001b[38;5;241;43m.\u001b[39;49m\u001b[43m_get_indexer_strict\u001b[49m\u001b[43m(\u001b[49m\u001b[43mkey\u001b[49m\u001b[43m,\u001b[49m\u001b[43m \u001b[49m\u001b[38;5;124;43m\"\u001b[39;49m\u001b[38;5;124;43mcolumns\u001b[39;49m\u001b[38;5;124;43m\"\u001b[39;49m\u001b[43m)\u001b[49m[\u001b[38;5;241m1\u001b[39m]\n\u001b[0;32m   3513\u001b[0m \u001b[38;5;66;03m# take() does not accept boolean indexers\u001b[39;00m\n\u001b[0;32m   3514\u001b[0m \u001b[38;5;28;01mif\u001b[39;00m \u001b[38;5;28mgetattr\u001b[39m(indexer, \u001b[38;5;124m\"\u001b[39m\u001b[38;5;124mdtype\u001b[39m\u001b[38;5;124m\"\u001b[39m, \u001b[38;5;28;01mNone\u001b[39;00m) \u001b[38;5;241m==\u001b[39m \u001b[38;5;28mbool\u001b[39m:\n",
      "File \u001b[1;32mC:\\Apps\\Anaconda3\\envs\\local\\lib\\site-packages\\pandas\\core\\indexes\\base.py:5782\u001b[0m, in \u001b[0;36mIndex._get_indexer_strict\u001b[1;34m(self, key, axis_name)\u001b[0m\n\u001b[0;32m   5779\u001b[0m \u001b[38;5;28;01melse\u001b[39;00m:\n\u001b[0;32m   5780\u001b[0m     keyarr, indexer, new_indexer \u001b[38;5;241m=\u001b[39m \u001b[38;5;28mself\u001b[39m\u001b[38;5;241m.\u001b[39m_reindex_non_unique(keyarr)\n\u001b[1;32m-> 5782\u001b[0m \u001b[38;5;28;43mself\u001b[39;49m\u001b[38;5;241;43m.\u001b[39;49m\u001b[43m_raise_if_missing\u001b[49m\u001b[43m(\u001b[49m\u001b[43mkeyarr\u001b[49m\u001b[43m,\u001b[49m\u001b[43m \u001b[49m\u001b[43mindexer\u001b[49m\u001b[43m,\u001b[49m\u001b[43m \u001b[49m\u001b[43maxis_name\u001b[49m\u001b[43m)\u001b[49m\n\u001b[0;32m   5784\u001b[0m keyarr \u001b[38;5;241m=\u001b[39m \u001b[38;5;28mself\u001b[39m\u001b[38;5;241m.\u001b[39mtake(indexer)\n\u001b[0;32m   5785\u001b[0m \u001b[38;5;28;01mif\u001b[39;00m \u001b[38;5;28misinstance\u001b[39m(key, Index):\n\u001b[0;32m   5786\u001b[0m     \u001b[38;5;66;03m# GH 42790 - Preserve name from an Index\u001b[39;00m\n",
      "File \u001b[1;32mC:\\Apps\\Anaconda3\\envs\\local\\lib\\site-packages\\pandas\\core\\indexes\\base.py:5845\u001b[0m, in \u001b[0;36mIndex._raise_if_missing\u001b[1;34m(self, key, indexer, axis_name)\u001b[0m\n\u001b[0;32m   5842\u001b[0m     \u001b[38;5;28;01mraise\u001b[39;00m \u001b[38;5;167;01mKeyError\u001b[39;00m(\u001b[38;5;124mf\u001b[39m\u001b[38;5;124m\"\u001b[39m\u001b[38;5;124mNone of [\u001b[39m\u001b[38;5;132;01m{\u001b[39;00mkey\u001b[38;5;132;01m}\u001b[39;00m\u001b[38;5;124m] are in the [\u001b[39m\u001b[38;5;132;01m{\u001b[39;00maxis_name\u001b[38;5;132;01m}\u001b[39;00m\u001b[38;5;124m]\u001b[39m\u001b[38;5;124m\"\u001b[39m)\n\u001b[0;32m   5844\u001b[0m not_found \u001b[38;5;241m=\u001b[39m \u001b[38;5;28mlist\u001b[39m(ensure_index(key)[missing_mask\u001b[38;5;241m.\u001b[39mnonzero()[\u001b[38;5;241m0\u001b[39m]]\u001b[38;5;241m.\u001b[39munique())\n\u001b[1;32m-> 5845\u001b[0m \u001b[38;5;28;01mraise\u001b[39;00m \u001b[38;5;167;01mKeyError\u001b[39;00m(\u001b[38;5;124mf\u001b[39m\u001b[38;5;124m\"\u001b[39m\u001b[38;5;132;01m{\u001b[39;00mnot_found\u001b[38;5;132;01m}\u001b[39;00m\u001b[38;5;124m not in index\u001b[39m\u001b[38;5;124m\"\u001b[39m)\n",
      "\u001b[1;31mKeyError\u001b[0m: \"['ADM2_PCODE'] not in index\""
     ]
    }
   ],
   "source": [
    "wdir = 'C:/Users/rp1y21/OneDrive - University of Southampton/Data/Census/NGA/'\n",
    "#f = gpd.read_file(f'{wdir}uga_admbnda_adm0_ubos_20200824.shp')\n",
    "g = gpd.read_file(f'{wdir}adm/nga_admbnda_adm2_osgof_20190417.shp')[['ADM2_PCODE','geometry']]\n",
    "#d = gpd.pd.read_excel(f'{wdir}nga_admpop_2020.xlsx', sheet_name='NGA_ADM2_POP_2020')#[['ADM2_PCODE','ADM1_EN','F_TL','M_TL','T_TL']]\n",
    "#h = gpd.pd.merge(d, g, on='ADM2_PCODE', how='inner')\n"
   ]
  },
  {
   "cell_type": "code",
   "execution_count": 33,
   "id": "5dd0aa36",
   "metadata": {},
   "outputs": [],
   "source": [
    "#d.to_csv(f'{wdir}nga_adm2_pop_2020.csv', index=False)\n",
    "#g.to_file(f'{wdir}nga_adm2.shp', index=False)\n",
    "h = gpd.GeoDataFrame(h)\n",
    "#.to_file(f'{wdir}nga_adm2_pop_2020.shp', index=False)"
   ]
  },
  {
   "cell_type": "code",
   "execution_count": 35,
   "id": "9d31e2ba",
   "metadata": {},
   "outputs": [],
   "source": [
    "h.to_file(f'{wdir}nga_adm2_pop_2020.shp', index=False)"
   ]
  },
  {
   "cell_type": "code",
   "execution_count": 36,
   "id": "1290643f",
   "metadata": {},
   "outputs": [
    {
     "data": {
      "text/plain": [
       "Index(['ISO3', 'ADM0_NAME', 'ADM0_PCODE', 'ADM1_NAME', 'ADM1_PCODE',\n",
       "       'ADM2_NAME', 'ADM2_PCODE', 'UNIQUE', 'NESTING', 'F_TL', 'M_TL', 'T_TL',\n",
       "       'F_00_04', 'F_05_09', 'F_10_14', 'F_15_19', 'F_20_24', 'F_25_29',\n",
       "       'F_30_34', 'F_35_39', 'F_40_44', 'F_45_49', 'F_50_54', 'F_55_59',\n",
       "       'F_60_64', 'F_65_69', 'F_70_74', 'F_75_79', 'F_80Plus', 'M_00_04',\n",
       "       'M_05_09', 'M_10_14', 'M_15_19', 'M_20_24', 'M_25_29', 'M_30_34',\n",
       "       'M_35_39', 'M_40_44', 'M_45_49', 'M_50_54', 'M_55_59', 'M_60_64',\n",
       "       'M_65_69', 'M_70_74', 'M_75_79', 'M_80Plus', 'T_00_04', 'T_05_09',\n",
       "       'T_10_14', 'T_15_19', 'T_20_24', 'T_25_29', 'T_30_34', 'T_35_39',\n",
       "       'T_40_44', 'T_45_49', 'T_50_54', 'T_55_59', 'T_60_64', 'T_65_69',\n",
       "       'T_70_74', 'T_75_79', 'T_80Plus', 'geometry'],\n",
       "      dtype='object')"
      ]
     },
     "execution_count": 36,
     "metadata": {},
     "output_type": "execute_result"
    }
   ],
   "source": [
    "h.columns"
   ]
  },
  {
   "cell_type": "code",
   "execution_count": 20,
   "id": "2e3e1bec",
   "metadata": {},
   "outputs": [],
   "source": [
    "adm0 = gpd.read_file(f'{wdir}adm/nga_admbnda_adm2_osgof_20190417.shp')[['geometry']]\n",
    "adm0.to_file(f'{wdir}nga_adm0.shp', index=False)"
   ]
  }
 ],
 "metadata": {
  "kernelspec": {
   "display_name": "Python 3 (ipykernel)",
   "language": "python",
   "name": "python3"
  },
  "language_info": {
   "codemirror_mode": {
    "name": "ipython",
    "version": 3
   },
   "file_extension": ".py",
   "mimetype": "text/x-python",
   "name": "python",
   "nbconvert_exporter": "python",
   "pygments_lexer": "ipython3",
   "version": "3.9.15"
  }
 },
 "nbformat": 4,
 "nbformat_minor": 5
}
