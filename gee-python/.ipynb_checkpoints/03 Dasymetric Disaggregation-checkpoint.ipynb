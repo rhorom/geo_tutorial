{
 "cells": [
  {
   "cell_type": "markdown",
   "id": "6538c8d0",
   "metadata": {},
   "source": [
    "# Dasymetric Disaggregation using Google Earth Engine\n",
    "[**Rhorom Priyatikanto**](mailto:rp1y21@soton.ac.uk)<br>\n",
    "WorldPop - University of Southampton\n",
    "\n",
    "## Pre-requisites\n",
    "1. Basic skill in _Python_ programming language\n",
    "2. Basic knowledge on the Google Earth Engine\n",
    "2. Basic understanding in GIS concepts, including raster and vector data processing and analysis\n",
    "\n",
    "## Table of contents\n",
    "1. [Main courses](#main-courses)\n",
    "2. [Introduction](#introduction)\n",
    "3. [Input data](#input-data)\n",
    "4. [Simple disaggregation](#simple-disaggregation)\n",
    "5. [Checking the results](#checking-the-results)\n",
    "6. [Exporting the results](#exporting-the-results)\n",
    "\n",
    "## Main courses\n",
    "In this tutorial, we will create a gridded population dataset using a simple dasymetric mapping that relies on a single ancillary data representing population distribution over a spatial extent."
   ]
  },
  {
   "cell_type": "markdown",
   "id": "26bd94e5",
   "metadata": {},
   "source": [
    "## Introduction\n",
    "Gridded population data is created by taking census data, which is typically collected at the administrative unit level, and distributing that population across a grid of raster cells. Census, that becomes the primary source of population data, provides counts of people within specific administrative boundaries (e.g., counties, districts). Using a certain method, the population within each administrative unit is distributed across the grid cells that intersect with that unit. This method is known as top-down approach.\n",
    "\n",
    "There are two major methods to distribute or disaggregate population into grid cells:\n",
    "- **Areal Weighting**: This common method assumes a uniform population distribution within each administrative unit and allocates population to grid cells based on the proportion of the unit's area covered by each cell.\n",
    "\n",
    "- **Dasymetric Mapping**: This method uses ancillary data (e.g., land cover, building density) to refine the population distribution within administrative units, resulting in a more realistic representation.\n",
    "\n",
    "Dasymetric mapping becomes a method to create accurate and reliable gridded population datasets like [WorldPop Global Project Population Data](https://developers.google.com/earth-engine/datasets/catalog/WorldPop_GP_100m_pop#image-properties) and [LandScan Population Data](https://developers.google.com/earth-engine/datasets/catalog/projects_sat-io_open-datasets_ORNL_LANDSCAN_GLOBAL). This method leverages additional information, called ancillary data, to more accurately reallocate the original data within these areas. The goal is to achieve a distribution that better reflects the true spatial pattern of the phenomenon being mapped. Ancillary data is the crucial ingredient that distinguishes dasymetric mapping. It consists of spatial datasets that correlate with the distribution of the source data. Common examples include:\n",
    "- Land cover/land use data: Identifying areas unsuitable for human habitation (e.g., water bodies, forests) or with varying population densities (e.g., urban vs. rural).\n",
    "- Building footprints/density data: Indicating areas with higher potential for population concentration.\n",
    "- Nighttime lights data: Suggesting areas of human activity and potential population presence.\n",
    "\n",
    "Based on the available ancillary data, the population count at administrative unit level is then proportionally redistributed within this zones."
   ]
  },
  {
   "cell_type": "markdown",
   "id": "753bad29",
   "metadata": {},
   "source": [
    "## Input data\n",
    "In this tutorial, we aim for disaggregating population of Skaane County in Sweden using two ancillary data:\n",
    "- [VIIRS Nighttime Composite](https://developers.google.com/earth-engine/datasets/catalog/NOAA_VIIRS_DNB_ANNUAL_V21) representing the amount of lights emitted from the Earth's surface as measured by the Visible Infrared Imaging Radiometer Suite onboard Suomi NPP satellite. The dataset contains several bands, including the average nighttime radiance to be used for dasymetric disaggregation. It has a spatial resolution of around 500 m.\n",
    "\n",
    "- [GHSL Global Building Volume](https://developers.google.com/earth-engine/datasets/catalog/JRC_GHSL_P2023A_GHS_BUILT_V) depicts the global distribution of building volume, expressed in cubic metres per 100 m grid cell. Following the characteristics of the building, i.e., residential and non-residential, we can estimate the building volume allocated for residential use, which is relevant for population disaggregation.\n",
    "\n",
    "We use [WorldPop Global Project Population Data](https://developers.google.com/earth-engine/datasets/catalog/WorldPop_GP_100m_pop#image-properties) as the basis. The total population of Blekinge County (admin-1) and the population counts at every subcounty (admin-2) are obtained through zonal statistics using appropriate administrative boundaries. The [Global Administrative Unit Layer](https://developers.google.com/earth-engine/datasets/catalog/FAO_GAUL_2015_level2) contains administrative boundaries we can use to define the region of interest for this tutorial."
   ]
  },
  {
   "cell_type": "code",
   "execution_count": 3,
   "id": "3a54ecb6",
   "metadata": {},
   "outputs": [],
   "source": [
    "import ee\n",
    "import numpy as np\n",
    "import pandas as pd\n",
    "import geopandas as gpd\n",
    "import matplotlib.pyplot as plt\n",
    "import matplotlib.colors as clr\n",
    "from IPython.display import display, Image, HTML\n",
    "\n",
    "ee.Initialize()"
   ]
  },
  {
   "cell_type": "code",
   "execution_count": 4,
   "id": "0ddd27e6",
   "metadata": {},
   "outputs": [],
   "source": [
    "geometry = ee.Geometry.Point(13.0,55.6) #a point near Malmoe\n",
    "adm1 = (ee.FeatureCollection(\"FAO/GAUL_SIMPLIFIED_500m/2015/level1\")\n",
    "  .filterBounds(geometry)\n",
    "  .select(['ADM1_NAME', 'ADM1_CODE']))\n",
    "  \n",
    "adm2 = (ee.FeatureCollection(\"FAO/GAUL_SIMPLIFIED_500m/2015/level2\")\n",
    "  .filterBounds(adm1)\n",
    "  .select(['ADM1_NAME', 'ADM1_CODE', 'ADM2_NAME', 'ADM2_CODE']))"
   ]
  },
  {
   "cell_type": "markdown",
   "id": "819d180d",
   "metadata": {},
   "source": [
    "![](fig/blekinge.PNG)\n",
    "\n",
    "Then, we can import WorldPop data and the ancillary data layers."
   ]
  },
  {
   "cell_type": "code",
   "execution_count": 5,
   "id": "fe7e5cf4",
   "metadata": {},
   "outputs": [],
   "source": [
    "wpgp = (ee.ImageCollection(\"WorldPop/GP/100m/pop\")\n",
    "    .filterDate('2020-01-01','2020-12-31')\n",
    "    .filterBounds(adm1).mosaic().clip(adm1).rename('pop'))\n",
    "\n",
    "viirs = (ee.ImageCollection(\"NOAA/VIIRS/DNB/ANNUAL_V21\")\n",
    "    .filterDate('2020-01-01','2020-12-31')\n",
    "    .filterBounds(adm1).first().clip(adm1).select('average'))\n",
    "viirs = viirs.where(viirs.lt(0.25), ee.Image(0))\n",
    "\n",
    "ghsv = (ee.Image('JRC/GHSL/P2023A/GHS_BUILT_V/2020')\n",
    "    .clip(adm1))\n",
    "ghsl = (ghsv.select('built_volume_total')\n",
    "    .subtract(ghsv.select('built_volume_nres')))"
   ]
  },
  {
   "cell_type": "markdown",
   "id": "6d43def7",
   "metadata": {},
   "source": [
    "The annual composite of VIIRS data contains the average radiance in nanoWatts/sr/cm2. Typically the cell values range from 0 to 10. To obtain more realistic result where the people resides in settlement area in cities, towns, and the surroundings, we apply minimum threshold to the VIIRS data. Cell values below 0.25 nanoWatts/sr/cm2 are set to zero.\n",
    "\n",
    "For the Building Volume dataset, we subtract the total volume with the volume of non-residential buildings. Thus, cell values represent the volume of buildings used as residence.\n",
    "\n",
    "With the required images in hand, we are able to aggregate the data at admin-1 level. The resulting table will be used for dasymetric disaggregation. Just before aggregation, the images are stacked into an image with three bands, i.e., `pop`, `viirs`, and `ghsl`. "
   ]
  },
  {
   "cell_type": "code",
   "execution_count": 6,
   "id": "31e55336",
   "metadata": {},
   "outputs": [],
   "source": [
    "wpgp = (wpgp.rename('pop')\n",
    "  .addBands(viirs.rename('viirs'))\n",
    "  .addBands(ghsl.rename('ghsl')))\n",
    "  \n",
    "pop1 = wpgp.reduceRegions(\n",
    "  collection = adm1,\n",
    "  scale = 100,\n",
    "  reducer = ee.Reducer.sum()\n",
    ")"
   ]
  },
  {
   "cell_type": "markdown",
   "id": "6a9409c5",
   "metadata": {},
   "source": [
    "Printing the table gives the following information\n",
    "```javascript\n",
    "FeatureCollection (1 element, 3 columns)\n",
    "    type: FeatureCollection\n",
    "    columns: Object (3 properties)\n",
    "    features: List (1 element)\n",
    "        0: Feature 0000000000000000081f (MultiPolygon, 5 properties)\n",
    "            type: Feature\n",
    "            id: 0000000000000000081f\n",
    "            geometry: MultiPolygon, 546 vertices\n",
    "            properties: Object (5 properties)\n",
    "            ADM1_CODE: 2798\n",
    "            ADM1_NAME: Skaane Laen\n",
    "            ghsl: 1012538246.200001\n",
    "            pop: 1194366.2647774743\n",
    "            viirs: 4201327.650036133\n",
    "```"
   ]
  },
  {
   "cell_type": "markdown",
   "id": "b99c223e",
   "metadata": {},
   "source": [
    "## Simple disaggregation\n",
    "Suppose the total population in the selected admin-1 unit is $pop_j$ while the ancillary data value at each grid cell is $x$. Using proportional disaggregation rule, the estimated population at grid cell is\n",
    "$$\\hat{pop}_i=\\frac{pop_j}{\\sum x_i} \\times x_i=f_j \\times x_i,$$\n",
    "where $\\sum{x_i}$ is the total value of $x$ at specified unit. This total acts as the normalising factor which transforms the ancillary data into a probability of getting people in a particular grid cell. \n",
    "\n",
    "As the sum of $x_i$ for `viirs` and `ghsl` have been obtained through prior zonal statistics, we can compute $f_j$ using the following commands:"
   ]
  },
  {
   "cell_type": "code",
   "execution_count": 7,
   "id": "d14b01b7",
   "metadata": {},
   "outputs": [],
   "source": [
    "def normalise(feat):\n",
    "    pop = feat.getNumber('pop')\n",
    "    f1 = pop.divide(feat.getNumber('viirs'))\n",
    "    f2 = pop.divide(feat.getNumber('ghsl'))\n",
    "    return feat.set('f1', f1, 'f2', f2)\n",
    "pop1 = pop1.map(normalise)"
   ]
  },
  {
   "cell_type": "markdown",
   "id": "0e0902f8",
   "metadata": {},
   "source": [
    "Multiplication of $f_j$ and the ancillary data $x$ yields the population estimate. However, we need to convert $f_j$ stored in `FeatureCollection` `pop1` into an `Image` so that multiplication can be done at grid level. This so called rasterisation process can be performed using `reduceToImage()` method attached to `FeatureCollection` class."
   ]
  },
  {
   "cell_type": "code",
   "execution_count": 9,
   "id": "61da72ea",
   "metadata": {},
   "outputs": [],
   "source": [
    "f1 = pop1.reduceToImage(\n",
    "  properties = ['f1'],\n",
    "  reducer = ee.Reducer.sum()\n",
    ")\n",
    "\n",
    "f2 = pop1.reduceToImage(\n",
    "  properties = ['f2'],\n",
    "  reducer = ee.Reducer.sum()\n",
    ")"
   ]
  },
  {
   "cell_type": "markdown",
   "id": "97b50df7",
   "metadata": {},
   "source": [
    "Afterward, grid level (pixel-wise) multiplication can be performed and the estimated population using two ancillary data can be stacked for further assessments."
   ]
  },
  {
   "cell_type": "code",
   "execution_count": 10,
   "id": "2388710d",
   "metadata": {},
   "outputs": [],
   "source": [
    "e1 = wpgp.select('viirs').multiply(f1)\n",
    "e2 = wpgp.select('ghsl').multiply(f2)\n",
    "estimate = (wpgp.select('pop')\n",
    "  .addBands(e1.rename('est_viirs'))\n",
    "  .addBands(e2.rename('est_ghsl')))"
   ]
  },
  {
   "cell_type": "markdown",
   "id": "34e9d5c2",
   "metadata": {},
   "source": [
    "## Checking the results\n",
    "Let's visualise the dasymetric results on a map and compare them to the basis gridded population data."
   ]
  },
  {
   "cell_type": "code",
   "execution_count": null,
   "id": "5dda65a6",
   "metadata": {},
   "outputs": [],
   "source": [
    "nsteps = 7\n",
    "palette = [clr.rgb2hex(plt.get_cmap('inferno_r', nsteps)(a/nsteps)) for a in range(nsteps)]\n",
    "var vis = {'min':0, 'max':50, 'palette':palette, 'region':adm1.geometry, 'dimensions':256};\n",
    "\n",
    "url_wpgp = wpgp.select('pop').getThumbUrl(vis)\n",
    "url_viirs = wpgp.select('est_viirs').getThumbUrl(vis)\n",
    "url_ghsl = wpgp.select('est_ghsl').getThumbUrl(vis)\n",
    "\n",
    "fmt = \"<img style='width:256px; margin:2px; float:left; border:1px solid black;' src='{0}' />\"\n",
    "img = ''.join( [fmt.format(s) for s in [url_wpgp,url_landscan]])\n",
    "display(HTML(img))"
   ]
  },
  {
   "cell_type": "markdown",
   "id": "68a5ac18",
   "metadata": {},
   "source": [
    "After some arrangements, the results look like the figure below.\n",
    "\n",
    "![](fig/dasymetric_results.PNG)\n",
    "\n",
    "Visually, the estimate from VIIRS data is fuzzier compared to the WorldPop data while the one from GHSL is more granular. As expected, VIIRS with a 500-m resolution yields a coarser gridded population estimate. In terms of resolution, GHSL data has the same granularity compared to the WorldPop data so that the resolutions of the ancillary data can't explain the difference. Variation in building volume is directly propagated to the population estimate. Meanwhile, WorldPop data is produced using Random Forest algorithm that incorporates multiple covariates to get the probability layer for dasymetric redistribution. Combination of covariates with different resolutions creates a layer that is significantly fuzzier that its grid size.\n",
    "\n",
    "Further assessment can be performed by aggregating the population estimate to admin-2 level and compare the values with the ones from WorldPop.\n",
    "\n",
    "```javascript\n",
    "var pop2 = estimate.reduceRegions({\n",
    "  collection: adm2,\n",
    "  scale: 100,\n",
    "  reducer: ee.Reducer.sum()\n",
    "});\n",
    "\n",
    "pop2 = pop2.map(function(feat){\n",
    "  var pop = feat.getNumber('pop');\n",
    "  return feat.set('ref', pop);\n",
    "});\n",
    "```\n",
    "\n",
    "The resulting scores are:\n",
    "\n",
    "| Score | `est_viirs` | `est_ghsl` |\n",
    "| ----- | ----------- | ---------- |\n",
    "| Bias\t| -2.16 | 0.08 |\n",
    "| RMSE\t| 20017 | 7483 |\n",
    "| MAPE\t| 0.80  | 0.36 |\n",
    "| R2\t| 0.91  | 0.98 |\n",
    "\n",
    "A scatter plot can also be generated as a part of the assessment.\n",
    "```javascript\n",
    "var chart = ui.Chart.feature.byFeature({\n",
    "  features: pop2,\n",
    "  xProperty: 'pop',\n",
    "  yProperties: ['ref', 'est_viirs', 'est_ghsl']\n",
    "});\n",
    "\n",
    "var series = {\n",
    "  0: {pointSize:0, lineWidth:1, color:'black'},\n",
    "  1: {pointSize:5, lineWidth:0, pointShape: 'circle', color:'green'},\n",
    "  2: {pointSize:5, lineWidth:0, pointShape: 'circle', color:'red'},\n",
    "};\n",
    "var lim = {min:5e3, max:5e5};\n",
    "var style = {\n",
    "  hAxis: {title: 'WorldPop', scaleType:'log', viewWindow:lim},\n",
    "  vAxis: {title: 'Simple Dasymetric', scaleType:'log', viewWindow:lim},\n",
    "  series: series\n",
    "};\n",
    "\n",
    "chart = chart.setOptions(style);\n",
    "print(chart);\n",
    "```\n",
    "\n",
    "![](fig/dasymetric_comparison.PNG)\n",
    "\n",
    "To see how the estimated population counts deviate from the WorldPop data, we can calculate the deviations at admin-2 level and visualise the deviations on a map using a diverging color scale (see panel b and c of the figure above).\n",
    "```javascript\n",
    "//Computing deviation at admin-2 level\n",
    "pop2 = pop2.map(function(feat){\n",
    "  var pop = feat.getNumber('pop');\n",
    "  var e1 = feat.getNumber('est_viirs');\n",
    "  var e2 = feat.getNumber('est_ghsl');\n",
    "  \n",
    "  return feat.set(\n",
    "    'dev_viirs', e1.subtract(pop),\n",
    "    'dev_ghsl', e2.subtract(pop)\n",
    "    );\n",
    "});\n",
    "\n",
    "//Rasterisarion\n",
    "var d1 = pop2.reduceToImage({\n",
    "  properties:['dev_viirs'],\n",
    "  reducer:'sum'\n",
    "}).clip(adm1);\n",
    "\n",
    "var d2 = pop2.reduceToImage({\n",
    "  properties:['dev_ghsl'],\n",
    "  reducer:'sum'\n",
    "}).clip(adm1);\n",
    "\n",
    "//Visualisation\n",
    "var palettes = require('users/gena/packages:palettes');\n",
    "var palette = palettes.misc.coolwarm[7];\n",
    "vis = {min:-3e4, max:3e4, palette:palette};\n",
    "\n",
    "Map.addLayer(ee.Image(1), {palette:['white']});\n",
    "Map.addLayer(d1, vis, 'VIIRS');\n",
    "Map.addLayer(d2, vis, 'GHSL');\n",
    "\n",
    "```\n",
    "## Exporting the results\n",
    "Lastly, the raster products of our simple dasymetric disaggregation of population in Skaane region can be exported to Google Drive. The following commands export the `est_viirs` band from the `estimate` image as `GeoTIFF` with 100-m resolution. A standard `EPSG:4326` (WGS84) projection is applied to the image.\n",
    "\n",
    "```javascript\n",
    "Export.image.toDrive({\n",
    "  image: estimate.select('est_viirs'),\n",
    "  description: 'dasymetric_viirs',\n",
    "  folder: 'gee',\n",
    "  region: adm1,\n",
    "  fileFormat: 'GeoTIFF',\n",
    "  crs: 'EPSG:4326',\n",
    "  scale: 100\n",
    "});\n",
    "```"
   ]
  }
 ],
 "metadata": {
  "kernelspec": {
   "display_name": "Python 3 (ipykernel)",
   "language": "python",
   "name": "python3"
  },
  "language_info": {
   "codemirror_mode": {
    "name": "ipython",
    "version": 3
   },
   "file_extension": ".py",
   "mimetype": "text/x-python",
   "name": "python",
   "nbconvert_exporter": "python",
   "pygments_lexer": "ipython3",
   "version": "3.9.15"
  }
 },
 "nbformat": 4,
 "nbformat_minor": 5
}
