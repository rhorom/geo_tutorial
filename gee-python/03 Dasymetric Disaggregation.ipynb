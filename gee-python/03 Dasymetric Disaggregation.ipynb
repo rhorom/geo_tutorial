{
 "cells": [
  {
   "cell_type": "markdown",
   "id": "c6eef806",
   "metadata": {},
   "source": [
    "# Dasymetric Disaggregation using Google Earth Engine\n",
    "[**Rhorom Priyatikanto**](mailto:rp1y21@soton.ac.uk)<br>\n",
    "WorldPop - University of Southampton\n",
    "\n",
    "## Pre-requisites\n",
    "1. Basic skill in _Python_ programming language\n",
    "2. Basic knowledge on the Google Earth Engine\n",
    "2. Basic understanding in GIS concepts, including raster and vector data processing and analysis\n",
    "\n",
    "## Table of contents\n",
    "1. [Main courses](#main-courses)\n",
    "2. [Introduction](#introduction)\n",
    "3. [Input data](#input-data)\n",
    "4. [Simple disaggregation](#simple-disaggregation)\n",
    "5. [Checking the results](#checking-the-results)\n",
    "6. [Exporting the results](#exporting-the-results)\n",
    "\n",
    "## Main courses\n",
    "In this tutorial, we will create a gridded population dataset using a simple dasymetric mapping that relies on a single ancillary data representing population distribution over a spatial extent."
   ]
  },
  {
   "cell_type": "markdown",
   "id": "a5dd510d",
   "metadata": {},
   "source": [
    "## Introduction\n",
    "Gridded population data is created by taking census data, which is typically collected at the administrative unit level, and distributing that population across a grid of raster cells. Census, that becomes the primary source of population data, provides counts of people within specific administrative boundaries (e.g., counties, districts). Using a certain method, the population within each administrative unit is distributed across the grid cells that intersect with that unit. This method is known as top-down approach.\n",
    "\n",
    "There are two major methods to distribute or disaggregate population into grid cells:\n",
    "- **Areal Weighting**: This common method assumes a uniform population distribution within each administrative unit and allocates population to grid cells based on the proportion of the unit's area covered by each cell.\n",
    "\n",
    "- **Dasymetric Mapping**: This method uses ancillary data (e.g., land cover, building density) to refine the population distribution within administrative units, resulting in a more realistic representation.\n",
    "\n",
    "Dasymetric mapping becomes a method to create accurate and reliable gridded population datasets like [WorldPop Global Project Population Data](https://developers.google.com/earth-engine/datasets/catalog/WorldPop_GP_100m_pop#image-properties) and [LandScan Population Data](https://developers.google.com/earth-engine/datasets/catalog/projects_sat-io_open-datasets_ORNL_LANDSCAN_GLOBAL). This method leverages additional information, called ancillary data, to more accurately reallocate the original data within these areas. The goal is to achieve a distribution that better reflects the true spatial pattern of the phenomenon being mapped. Ancillary data is the crucial ingredient that distinguishes dasymetric mapping. It consists of spatial datasets that correlate with the distribution of the source data. Common examples include:\n",
    "- Land cover/land use data: Identifying areas unsuitable for human habitation (e.g., water bodies, forests) or with varying population densities (e.g., urban vs. rural).\n",
    "- Building footprints/density data: Indicating areas with higher potential for population concentration.\n",
    "- Nighttime lights data: Suggesting areas of human activity and potential population presence.\n",
    "\n",
    "Based on the available ancillary data, the population count at administrative unit level is then proportionally redistributed within this zones."
   ]
  },
  {
   "cell_type": "markdown",
   "id": "ace0c5c4",
   "metadata": {},
   "source": [
    "## Input data\n",
    "In this tutorial, we aim for disaggregating population of Skaane County in Sweden using two ancillary data:\n",
    "- [VIIRS Nighttime Composite](https://developers.google.com/earth-engine/datasets/catalog/NOAA_VIIRS_DNB_ANNUAL_V21) representing the amount of lights emitted from the Earth's surface as measured by the Visible Infrared Imaging Radiometer Suite onboard Suomi NPP satellite. The dataset contains several bands, including the average nighttime radiance to be used for dasymetric disaggregation. It has a spatial resolution of around 500 m.\n",
    "\n",
    "- [GHSL Global Building Volume](https://developers.google.com/earth-engine/datasets/catalog/JRC_GHSL_P2023A_GHS_BUILT_V) depicts the global distribution of building volume, expressed in cubic metres per 100 m grid cell. Following the characteristics of the building, i.e., residential and non-residential, we can estimate the building volume allocated for residential use, which is relevant for population disaggregation.\n",
    "\n",
    "We use [WorldPop Global Project Population Data](https://developers.google.com/earth-engine/datasets/catalog/WorldPop_GP_100m_pop#image-properties) as the basis. The total population of Blekinge County (admin-1) and the population counts at every subcounty (admin-2) are obtained through zonal statistics using appropriate administrative boundaries. The [Global Administrative Unit Layer](https://developers.google.com/earth-engine/datasets/catalog/FAO_GAUL_2015_level2) contains administrative boundaries we can use to define the region of interest for this tutorial."
   ]
  },
  {
   "cell_type": "code",
   "execution_count": 3,
   "id": "72b32d8a",
   "metadata": {},
   "outputs": [],
   "source": [
    "import ee\n",
    "import numpy as np\n",
    "import pandas as pd\n",
    "import geopandas as gpd\n",
    "import matplotlib.pyplot as plt\n",
    "import matplotlib.colors as clr\n",
    "from IPython.display import display, Image, HTML\n",
    "from shapely.geometry import Polygon, MultiPolygon\n",
    "ee.Initialize()"
   ]
  },
  {
   "cell_type": "code",
   "execution_count": 4,
   "id": "0e487fc6",
   "metadata": {},
   "outputs": [],
   "source": [
    "geometry = ee.Geometry.Point(13.0,55.6) #a point near Malmoe\n",
    "adm1 = (ee.FeatureCollection(\"FAO/GAUL_SIMPLIFIED_500m/2015/level1\")\n",
    "  .filterBounds(geometry)\n",
    "  .select(['ADM1_NAME', 'ADM1_CODE']))\n",
    "  \n",
    "adm2 = (ee.FeatureCollection(\"FAO/GAUL_SIMPLIFIED_500m/2015/level2\")\n",
    "  .filterBounds(adm1)\n",
    "  .select(['ADM1_NAME', 'ADM1_CODE', 'ADM2_NAME', 'ADM2_CODE']))"
   ]
  },
  {
   "cell_type": "markdown",
   "id": "35b1ad5b",
   "metadata": {},
   "source": [
    "![](fig/blekinge.PNG)\n",
    "\n",
    "Then, we can import WorldPop data and the ancillary data layers."
   ]
  },
  {
   "cell_type": "code",
   "execution_count": 5,
   "id": "01c3f934",
   "metadata": {},
   "outputs": [],
   "source": [
    "wpgp = (ee.ImageCollection(\"WorldPop/GP/100m/pop\")\n",
    "    .filterDate('2020-01-01','2020-12-31')\n",
    "    .filterBounds(adm1).mosaic().clip(adm1).rename('pop'))\n",
    "\n",
    "viirs = (ee.ImageCollection(\"NOAA/VIIRS/DNB/ANNUAL_V21\")\n",
    "    .filterDate('2020-01-01','2020-12-31')\n",
    "    .filterBounds(adm1).first().clip(adm1).select('average'))\n",
    "viirs = viirs.where(viirs.lt(0.25), ee.Image(0))\n",
    "\n",
    "ghsv = (ee.Image('JRC/GHSL/P2023A/GHS_BUILT_V/2020')\n",
    "    .clip(adm1))\n",
    "ghsl = (ghsv.select('built_volume_total')\n",
    "    .subtract(ghsv.select('built_volume_nres')))"
   ]
  },
  {
   "cell_type": "markdown",
   "id": "d5e07226",
   "metadata": {},
   "source": [
    "The annual composite of VIIRS data contains the average radiance in nanoWatts/sr/cm2. Typically the cell values range from 0 to 10. To obtain more realistic result where the people resides in settlement area in cities, towns, and the surroundings, we apply minimum threshold to the VIIRS data. Cell values below 0.25 nanoWatts/sr/cm2 are set to zero.\n",
    "\n",
    "For the Building Volume dataset, we subtract the total volume with the volume of non-residential buildings. Thus, cell values represent the volume of buildings used as residence.\n",
    "\n",
    "With the required images in hand, we are able to aggregate the data at admin-1 level. The resulting table will be used for dasymetric disaggregation. Just before aggregation, the images are stacked into an image with three bands, i.e., `pop`, `viirs`, and `ghsl`. "
   ]
  },
  {
   "cell_type": "code",
   "execution_count": 6,
   "id": "632871c1",
   "metadata": {},
   "outputs": [],
   "source": [
    "wpgp = (wpgp.rename('pop')\n",
    "  .addBands(viirs.rename('viirs'))\n",
    "  .addBands(ghsl.rename('ghsl')))\n",
    "  \n",
    "pop1 = wpgp.reduceRegions(\n",
    "  collection = adm1,\n",
    "  scale = 100,\n",
    "  reducer = ee.Reducer.sum()\n",
    ")"
   ]
  },
  {
   "cell_type": "markdown",
   "id": "8f57b6a7",
   "metadata": {},
   "source": [
    "Printing the table gives the following information\n",
    "```javascript\n",
    "FeatureCollection (1 element, 3 columns)\n",
    "    type: FeatureCollection\n",
    "    columns: Object (3 properties)\n",
    "    features: List (1 element)\n",
    "        0: Feature 0000000000000000081f (MultiPolygon, 5 properties)\n",
    "            type: Feature\n",
    "            id: 0000000000000000081f\n",
    "            geometry: MultiPolygon, 546 vertices\n",
    "            properties: Object (5 properties)\n",
    "            ADM1_CODE: 2798\n",
    "            ADM1_NAME: Skaane Laen\n",
    "            ghsl: 1012538246.200001\n",
    "            pop: 1194366.2647774743\n",
    "            viirs: 4201327.650036133\n",
    "```"
   ]
  },
  {
   "cell_type": "markdown",
   "id": "286cf970",
   "metadata": {},
   "source": [
    "## Simple disaggregation\n",
    "Suppose the total population in the selected admin-1 unit is $pop_j$ while the ancillary data value at each grid cell is $x$. Using proportional disaggregation rule, the estimated population at grid cell is\n",
    "$$\\hat{pop}_i=\\frac{pop_j}{\\sum x_i} \\times x_i=f_j \\times x_i,$$\n",
    "where $\\sum{x_i}$ is the total value of $x$ at specified unit. This total acts as the normalising factor which transforms the ancillary data into a probability of getting people in a particular grid cell. \n",
    "\n",
    "As the sum of $x_i$ for `viirs` and `ghsl` have been obtained through prior zonal statistics, we can compute $f_j$ using the following commands:"
   ]
  },
  {
   "cell_type": "code",
   "execution_count": 7,
   "id": "07155b1e",
   "metadata": {},
   "outputs": [],
   "source": [
    "def normalise(feat):\n",
    "    pop = feat.getNumber('pop')\n",
    "    f1 = pop.divide(feat.getNumber('viirs'))\n",
    "    f2 = pop.divide(feat.getNumber('ghsl'))\n",
    "    return feat.set('f1', f1, 'f2', f2)\n",
    "pop1 = pop1.map(normalise)"
   ]
  },
  {
   "cell_type": "markdown",
   "id": "01c68d1a",
   "metadata": {},
   "source": [
    "Multiplication of $f_j$ and the ancillary data $x$ yields the population estimate. However, we need to convert $f_j$ stored in `FeatureCollection` `pop1` into an `Image` so that multiplication can be done at grid level. This so called rasterisation process can be performed using `reduceToImage()` method attached to `FeatureCollection` class."
   ]
  },
  {
   "cell_type": "code",
   "execution_count": 9,
   "id": "62a2673f",
   "metadata": {},
   "outputs": [],
   "source": [
    "f1 = pop1.reduceToImage(\n",
    "  properties = ['f1'],\n",
    "  reducer = ee.Reducer.sum()\n",
    ")\n",
    "\n",
    "f2 = pop1.reduceToImage(\n",
    "  properties = ['f2'],\n",
    "  reducer = ee.Reducer.sum()\n",
    ")"
   ]
  },
  {
   "cell_type": "markdown",
   "id": "25b245a9",
   "metadata": {},
   "source": [
    "Afterward, grid level (pixel-wise) multiplication can be performed and the estimated population using two ancillary data can be stacked for further assessments."
   ]
  },
  {
   "cell_type": "code",
   "execution_count": 14,
   "id": "59be9533",
   "metadata": {},
   "outputs": [],
   "source": [
    "e1 = wpgp.select('viirs').multiply(f1)\n",
    "e2 = wpgp.select('ghsl').multiply(f2)\n",
    "estimate = (wpgp.select('pop')\n",
    "  .addBands(e1.rename('est_viirs'))\n",
    "  .addBands(e2.rename('est_ghsl')))"
   ]
  },
  {
   "cell_type": "markdown",
   "id": "ff150b1f",
   "metadata": {},
   "source": [
    "## Checking the results\n",
    "Let's visualise the dasymetric results on a map and compare them to the basis gridded population data."
   ]
  },
  {
   "cell_type": "code",
   "execution_count": 42,
   "id": "3d12ae05",
   "metadata": {},
   "outputs": [],
   "source": [
    "nsteps = 7\n",
    "surrounding = geometry.buffer(10000)\n",
    "palette = [clr.rgb2hex(plt.get_cmap('inferno_r', nsteps)(a/nsteps)) for a in range(nsteps)]\n",
    "vis = {'min':0, 'max':50, 'palette':palette, 'region':surrounding, 'dimensions':256};\n",
    "\n",
    "url_wpgp = wpgp.select('pop').getThumbUrl(vis)\n",
    "url_viirs = estimate.select('est_viirs').getThumbUrl(vis)\n",
    "url_ghsl = estimate.select('est_ghsl').getThumbUrl(vis)"
   ]
  },
  {
   "cell_type": "code",
   "execution_count": 43,
   "id": "fbc6cd71",
   "metadata": {},
   "outputs": [
    {
     "data": {
      "text/html": [
       "<img style='width:256px; height:256px; margin:2px; float:left; border:1px solid black;' src='https://earthengine.googleapis.com/v1alpha/projects/earthengine-legacy/thumbnails/34f3bbb266dccf3717da8eea1484b4e4-3b1e128e8d5156178b8f457c7535563f:getPixels' /><img style='width:256px; height:256px; margin:2px; float:left; border:1px solid black;' src='https://earthengine.googleapis.com/v1alpha/projects/earthengine-legacy/thumbnails/add738332bd67d4c3865c6803afedbfc-7ce3bf779d72b455a1c5363d45f7faea:getPixels' /><img style='width:256px; height:256px; margin:2px; float:left; border:1px solid black;' src='https://earthengine.googleapis.com/v1alpha/projects/earthengine-legacy/thumbnails/7340d018ba672bb13087736ca577720d-e0df64138cc5d9d227b25d584671fb9f:getPixels' />"
      ],
      "text/plain": [
       "<IPython.core.display.HTML object>"
      ]
     },
     "metadata": {},
     "output_type": "display_data"
    }
   ],
   "source": [
    "fmt = \"<img style='width:256px; height:256px; margin:2px; float:left; border:1px solid black;' src='{0}' />\"\n",
    "img = ''.join( [fmt.format(s) for s in [url_wpgp,url_viirs,url_ghsl]])\n",
    "display(HTML(img))"
   ]
  },
  {
   "cell_type": "markdown",
   "id": "d64d1e7a",
   "metadata": {},
   "source": [
    "Visually, the estimate from VIIRS data is fuzzier compared to the WorldPop data while the one from GHSL is more granular. As expected, VIIRS with a 500-m resolution yields a coarser gridded population estimate. In terms of resolution, GHSL data has the same granularity compared to the WorldPop data so that the resolutions of the ancillary data can't explain the difference. Variation in building volume is directly propagated to the population estimate. Meanwhile, WorldPop data is produced using Random Forest algorithm that incorporates multiple covariates to get the probability layer for dasymetric redistribution. Combination of covariates with different resolutions creates a layer that is significantly fuzzier that its grid size.\n",
    "\n",
    "Further assessment can be performed by aggregating the population estimate to admin-2 level and compare the values with the ones from WorldPop. The table can be directly downloaded by printing the `pop2` as a dictionary."
   ]
  },
  {
   "cell_type": "code",
   "execution_count": 20,
   "id": "2c3806f3",
   "metadata": {},
   "outputs": [],
   "source": [
    "pop2 = estimate.reduceRegions(\n",
    "  collection = adm2,\n",
    "  scale = 100,\n",
    "  reducer = ee.Reducer.sum()\n",
    ")\n",
    "\n",
    "pop2 = pop2.map(lambda feat: feat.set('ref', feat.getNumber('pop')))\n",
    "pop2_local = pop2.getInfo()"
   ]
  },
  {
   "cell_type": "code",
   "execution_count": 24,
   "id": "390c9fb3",
   "metadata": {},
   "outputs": [
    {
     "data": {
      "text/html": [
       "<div>\n",
       "<style scoped>\n",
       "    .dataframe tbody tr th:only-of-type {\n",
       "        vertical-align: middle;\n",
       "    }\n",
       "\n",
       "    .dataframe tbody tr th {\n",
       "        vertical-align: top;\n",
       "    }\n",
       "\n",
       "    .dataframe thead th {\n",
       "        text-align: right;\n",
       "    }\n",
       "</style>\n",
       "<table border=\"1\" class=\"dataframe\">\n",
       "  <thead>\n",
       "    <tr style=\"text-align: right;\">\n",
       "      <th></th>\n",
       "      <th>ADM1_CODE</th>\n",
       "      <th>ADM1_NAME</th>\n",
       "      <th>ADM2_CODE</th>\n",
       "      <th>ADM2_NAME</th>\n",
       "      <th>est_ghsl</th>\n",
       "      <th>est_viirs</th>\n",
       "      <th>pop</th>\n",
       "      <th>ref</th>\n",
       "    </tr>\n",
       "  </thead>\n",
       "  <tbody>\n",
       "    <tr>\n",
       "      <th>0</th>\n",
       "      <td>2786</td>\n",
       "      <td>Blekinge Laen</td>\n",
       "      <td>25998</td>\n",
       "      <td>Olofstroem</td>\n",
       "      <td>10.219836</td>\n",
       "      <td>18.033552</td>\n",
       "      <td>2.299145</td>\n",
       "      <td>2.299145</td>\n",
       "    </tr>\n",
       "    <tr>\n",
       "      <th>1</th>\n",
       "      <td>2786</td>\n",
       "      <td>Blekinge Laen</td>\n",
       "      <td>26000</td>\n",
       "      <td>Soelvesborg</td>\n",
       "      <td>0.400404</td>\n",
       "      <td>10.152062</td>\n",
       "      <td>4.726520</td>\n",
       "      <td>4.726520</td>\n",
       "    </tr>\n",
       "  </tbody>\n",
       "</table>\n",
       "</div>"
      ],
      "text/plain": [
       "   ADM1_CODE      ADM1_NAME  ADM2_CODE    ADM2_NAME   est_ghsl  est_viirs  \\\n",
       "0       2786  Blekinge Laen      25998   Olofstroem  10.219836  18.033552   \n",
       "1       2786  Blekinge Laen      26000  Soelvesborg   0.400404  10.152062   \n",
       "\n",
       "        pop       ref  \n",
       "0  2.299145  2.299145  \n",
       "1  4.726520  4.726520  "
      ]
     },
     "execution_count": 24,
     "metadata": {},
     "output_type": "execute_result"
    }
   ],
   "source": [
    "def get_geodataframe(fc, keep_geom=True):\n",
    "    df = pd.DataFrame()\n",
    "    geom = []\n",
    "    for f in fc['features']:\n",
    "        d = pd.DataFrame(f['properties'], index=[0])\n",
    "        df = pd.concat([df, d], ignore_index=False)\n",
    "        \n",
    "        if f['geometry']['type'] == 'Polygon':\n",
    "            geom.append(Polygon(f['geometry']['coordinates'][0]))\n",
    "        else:\n",
    "            geom.append(MultiPolygon(f['geometry']['coordinates']))\n",
    "            \n",
    "    df = gpd.GeoDataFrame(data=df, geometry=geom).reset_index(drop=True)\n",
    "    return df\n",
    "\n",
    "gdf = get_geodataframe(pop2_local)\n",
    "\n",
    "gdf.drop(columns='geometry').head(2)"
   ]
  },
  {
   "cell_type": "markdown",
   "id": "efe9ebbf",
   "metadata": {},
   "source": [
    "To see how the estimated population counts deviate from the WorldPop data, we can calculate the deviations at admin-2 level and visualise the deviations on a map using a diverging color scale.\n",
    "\n",
    "Additionally, the scores are:\n",
    "\n",
    "| Score | `est_viirs` | `est_ghsl` |\n",
    "| ----- | ----------- | ---------- |\n",
    "| Bias\t| -2.16 | 0.08 |\n",
    "| RMSE\t| 20017 | 7483 |\n",
    "| MAPE\t| 0.80  | 0.36 |\n",
    "| R2\t| 0.91  | 0.98 |"
   ]
  },
  {
   "cell_type": "code",
   "execution_count": 40,
   "id": "57bf70ae",
   "metadata": {},
   "outputs": [
    {
     "data": {
      "image/png": "[encoded data removed]",
      "text/plain": [
       "<Figure size 900x300 with 3 Axes>"
      ]
     },
     "metadata": {},
     "output_type": "display_data"
    }
   ],
   "source": [
    "gdf['dev_viirs'] = gdf['est_viirs'] - gdf['pop']\n",
    "gdf['dev_ghsl'] = gdf['est_ghsl'] - gdf['pop']\n",
    "\n",
    "fig,ax = plt.subplots(1, 3, figsize=(9,3), dpi=100)\n",
    "ax[0].plot([2e3, 5e5], [2e3, 5e5], '--k', lw=1)\n",
    "ax[0].plot(gdf['pop'], gdf['est_viirs'], '.b', label='est_viirs')\n",
    "ax[0].plot(gdf['pop'], gdf['est_ghsl'], '.r', label='est_ghsl')\n",
    "ax[0].legend()\n",
    "\n",
    "d = {'VIIRS-based':'dev_viirs', 'GHSL-based':'dev_ghsl'}\n",
    "\n",
    "for a,b in enumerate(d):\n",
    "    gdf.plot(column=d[b], cmap='bwr', vmin=-2e4, vmax=2e4, ax=ax[a+1])\n",
    "    ax[a+1].set_axis_off()\n",
    "    ax[a+1].set_aspect('equal')\n",
    "    ax[a+1].set_title('Deviation\\n' + b, fontsize='small')\n",
    "\n",
    "ax[0].set_xscale('log')\n",
    "ax[0].set_yscale('log')\n",
    "ax[0].set_xlim(2e3, 5e5)\n",
    "ax[0].set_ylim(2e3, 5e5)\n",
    "    \n",
    "plt.tight_layout()\n",
    "plt.show()"
   ]
  },
  {
   "cell_type": "markdown",
   "id": "a0d5bb86",
   "metadata": {},
   "source": [
    "## Exporting the results\n",
    "Lastly, the raster products of our simple dasymetric disaggregation of population in Skaane region can be exported to Google Drive. The following commands export the `est_viirs` band from the `estimate` image as `GeoTIFF` with 100-m resolution. A standard `EPSG:4326` (WGS84) projection is applied to the image.\n",
    "\n",
    "```python\n",
    "task = ee.batch.Export.image.toDrive(\n",
    "  image = estimate.select('est_viirs'),\n",
    "  description = 'dasymetric_viirs',\n",
    "  folder = 'gee',\n",
    "  region = adm1,\n",
    "  fileFormat = 'GeoTIFF',\n",
    "  crs = 'EPSG:4326',\n",
    "  scale = 100\n",
    ")\n",
    "task.start()\n",
    "```"
   ]
  }
 ],
 "metadata": {
  "kernelspec": {
   "display_name": "Python 3 (ipykernel)",
   "language": "python",
   "name": "python3"
  },
  "language_info": {
   "codemirror_mode": {
    "name": "ipython",
    "version": 3
   },
   "file_extension": ".py",
   "mimetype": "text/x-python",
   "name": "python",
   "nbconvert_exporter": "python",
   "pygments_lexer": "ipython3",
   "version": "3.9.15"
  }
 },
 "nbformat": 4,
 "nbformat_minor": 5
}
